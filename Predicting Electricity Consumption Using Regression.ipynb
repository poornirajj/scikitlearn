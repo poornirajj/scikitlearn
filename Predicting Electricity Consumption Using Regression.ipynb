{
 "cells": [
  {
   "cell_type": "code",
   "execution_count": null,
   "id": "154c0e5a",
   "metadata": {},
   "outputs": [],
   "source": [
    "import pandas as pd\n",
    "import numpy as np\n",
    "import matplotlib.pyplot as plt\n",
    "import seaborn as sns\n",
    "\n",
    "from sklearn.model_selection import train_test_split, GridSearchCV\n",
    "from sklearn.preprocessing import StandardScaler, PolynomialFeatures\n",
    "from sklearn.metrics import mean_squared_error, mean_absolute_error, r2_score\n",
    "from sklearn.linear_model import LinearRegression, Ridge, Lasso\n",
    "from sklearn.tree import DecisionTreeRegressor\n",
    "from sklearn.ensemble import RandomForestRegressor\n"
   ]
  },
  {
   "cell_type": "code",
   "execution_count": null,
   "id": "98ffc930",
   "metadata": {},
   "outputs": [],
   "source": [
    "# Sample synthetic dataset generation (for practice)\n",
    "np.random.seed(42)\n",
    "n_samples = 1000\n",
    "\n",
    "data = pd.DataFrame({\n",
    "    'Temperature': np.random.normal(22, 5, n_samples),\n",
    "    'Occupants': np.random.randint(1, 6, n_samples),\n",
    "    'Appliance_Usage': np.random.normal(300, 100, n_samples),\n",
    "    'Time_of_Day': np.random.choice(['Morning', 'Afternoon', 'Evening', 'Night'], n_samples),\n",
    "})\n",
    "\n",
    "# Simulate target variable with some logic\n",
    "data['Electricity_Consumption'] = (\n",
    "    0.5 * data['Temperature'] +\n",
    "    20 * data['Occupants'] +\n",
    "    0.8 * data['Appliance_Usage'] +\n",
    "    np.random.normal(0, 30, n_samples)\n",
    ")\n",
    "\n",
    "data.head()\n"
   ]
  },
  {
   "cell_type": "code",
   "execution_count": null,
   "id": "8eb87325",
   "metadata": {},
   "outputs": [],
   "source": [
    "data = pd.get_dummies(data, columns=['Time_of_Day'], drop_first=True)\n"
   ]
  },
  {
   "cell_type": "code",
   "execution_count": null,
   "id": "753c93ce",
   "metadata": {},
   "outputs": [],
   "source": [
    "X = data.drop('Electricity_Consumption', axis=1)\n",
    "y = data['Electricity_Consumption']\n",
    "\n",
    "scaler = StandardScaler()\n",
    "X_scaled = scaler.fit_transform(X)\n"
   ]
  },
  {
   "cell_type": "code",
   "execution_count": null,
   "id": "14cf7a75",
   "metadata": {},
   "outputs": [],
   "source": [
    "X_train, X_test, y_train, y_test = train_test_split(\n",
    "    X_scaled, y, test_size=0.2, random_state=42\n",
    ")\n"
   ]
  },
  {
   "cell_type": "code",
   "execution_count": null,
   "id": "d457761e",
   "metadata": {},
   "outputs": [],
   "source": [
    "def evaluate_model(model, name):\n",
    "    model.fit(X_train, y_train)\n",
    "    y_pred = model.predict(X_test)\n",
    "    \n",
    "    print(f\"🔍 {name} Results:\")\n",
    "    print(\"R² Score:\", r2_score(y_test, y_pred))\n",
    "    print(\"MSE:\", mean_squared_error(y_test, y_pred))\n",
    "    print(\"MAE:\", mean_absolute_error(y_test, y_pred))\n",
    "    print(\"-\" * 40)\n",
    "    \n",
    "    return r2_score(y_test, y_pred), mean_squared_error(y_test, y_pred), mean_absolute_error(y_test, y_pred)\n"
   ]
  },
  {
   "cell_type": "code",
   "execution_count": null,
   "id": "cecbc36e",
   "metadata": {},
   "outputs": [],
   "source": [
    "lr = LinearRegression()\n",
    "evaluate_model(lr, \"Linear Regression\")\n"
   ]
  },
  {
   "cell_type": "code",
   "execution_count": null,
   "id": "4edfdc00",
   "metadata": {},
   "outputs": [],
   "source": [
    "poly = PolynomialFeatures(degree=2)\n",
    "X_train_poly = poly.fit_transform(X_train)\n",
    "X_test_poly = poly.transform(X_test)\n",
    "\n",
    "poly_model = LinearRegression()\n",
    "poly_model.fit(X_train_poly, y_train)\n",
    "y_pred_poly = poly_model.predict(X_test_poly)\n",
    "\n",
    "print(\"🔍 Polynomial Regression\")\n",
    "print(\"R² Score:\", r2_score(y_test, y_pred_poly))\n",
    "print(\"MSE:\", mean_squared_error(y_test, y_pred_poly))\n",
    "print(\"MAE:\", mean_absolute_error(y_test, y_pred_poly))\n"
   ]
  },
  {
   "cell_type": "code",
   "execution_count": null,
   "id": "a86e436a",
   "metadata": {},
   "outputs": [],
   "source": [
    "ridge = Ridge(alpha=1.0)\n",
    "evaluate_model(ridge, \"Ridge Regression\")\n"
   ]
  },
  {
   "cell_type": "code",
   "execution_count": null,
   "id": "01d16015",
   "metadata": {},
   "outputs": [],
   "source": [
    "lasso = Lasso(alpha=0.1)\n",
    "evaluate_model(lasso, \"Lasso Regression\")\n"
   ]
  },
  {
   "cell_type": "code",
   "execution_count": null,
   "id": "46ddcf0b",
   "metadata": {},
   "outputs": [],
   "source": [
    "tree = DecisionTreeRegressor(random_state=42)\n",
    "evaluate_model(tree, \"Decision Tree Regression\")\n"
   ]
  },
  {
   "cell_type": "code",
   "execution_count": null,
   "id": "ff83d053",
   "metadata": {},
   "outputs": [],
   "source": [
    "results = {\n",
    "    \"Model\": [\"Linear\", \"Polynomial\", \"Ridge\", \"Lasso\", \"Decision Tree\", \"Random Forest\"],\n",
    "    \"R2 Score\": [\n",
    "        r2_score(y_test, lr.predict(X_test)),\n",
    "        r2_score(y_test, y_pred_poly),\n",
    "        r2_score(y_test, ridge.predict(X_test)),\n",
    "        r2_score(y_test, lasso.predict(X_test)),\n",
    "        r2_score(y_test, tree.predict(X_test)),\n",
    "        r2_score(y_test, rf.predict(X_test))\n",
    "    ]\n",
    "}\n",
    "\n",
    "results_df = pd.DataFrame(results)\n",
    "\n",
    "plt.figure(figsize=(10,6))\n",
    "sns.barplot(data=results_df, x='Model', y='R2 Score', palette='viridis')\n",
    "plt.title(\"Model Comparison - R² Score\")\n",
    "plt.ylim(0, 1)\n",
    "plt.show()\n"
   ]
  },
  {
   "cell_type": "code",
   "execution_count": null,
   "id": "cae52213",
   "metadata": {},
   "outputs": [],
   "source": [
    "params = {\n",
    "    'n_estimators': [50, 100, 150],\n",
    "    'max_depth': [None, 10, 20]\n",
    "}\n",
    "\n",
    "grid = GridSearchCV(RandomForestRegressor(random_state=42), params, cv=3, scoring='r2')\n",
    "grid.fit(X_train, y_train)\n",
    "\n",
    "print(\"Best Parameters:\", grid.best_params_)\n",
    "\n",
    "best_model = grid.best_estimator_\n",
    "y_pred_best = best_model.predict(X_test)\n",
    "print(\"Optimized Random Forest R²:\", r2_score(y_test, y_pred_best))\n"
   ]
  },
  {
   "cell_type": "code",
   "execution_count": null,
   "id": "2f25d4e3",
   "metadata": {},
   "outputs": [],
   "source": [
    "plt.figure(figsize=(8,6))\n",
    "plt.scatter(y_test, y_pred_best, alpha=0.6, color='teal')\n",
    "plt.plot([y.min(), y.max()], [y.min(), y.max()], 'r--')\n",
    "plt.xlabel(\"Actual Consumption\")\n",
    "plt.ylabel(\"Predicted Consumption\")\n",
    "plt.title(\"Actual vs Predicted Electricity Consumption\")\n",
    "plt.show()\n"
   ]
  },
  {
   "cell_type": "code",
   "execution_count": null,
   "id": "58f0688e",
   "metadata": {},
   "outputs": [],
   "source": [
    "import joblib\n",
    "joblib.dump(best_model, 'electricity_consumption_model.pkl')\n"
   ]
  }
 ],
 "metadata": {
  "language_info": {
   "name": "python"
  }
 },
 "nbformat": 4,
 "nbformat_minor": 5
}
