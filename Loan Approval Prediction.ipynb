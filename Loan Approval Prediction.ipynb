{
 "cells": [
  {
   "cell_type": "code",
   "execution_count": null,
   "id": "038ce8d2",
   "metadata": {},
   "outputs": [],
   "source": [
    "pip install pandas numpy seaborn scikit-learn imbalanced-learn matplotlib\n"
   ]
  },
  {
   "cell_type": "code",
   "execution_count": null,
   "id": "17a0eb86",
   "metadata": {},
   "outputs": [],
   "source": [
    "import pandas as pd\n",
    "import numpy as np\n",
    "import seaborn as sns\n",
    "import matplotlib.pyplot as plt\n",
    "\n",
    "from sklearn.model_selection import train_test_split\n",
    "from sklearn.preprocessing import LabelEncoder, StandardScaler\n",
    "from sklearn.feature_selection import SelectKBest, f_classif\n",
    "from sklearn.decomposition import PCA\n",
    "from imblearn.over_sampling import SMOTE\n"
   ]
  },
  {
   "cell_type": "code",
   "execution_count": null,
   "id": "7710bd57",
   "metadata": {},
   "outputs": [],
   "source": [
    "# Load the dataset\n",
    "df = pd.read_csv(\"loan_data.csv\")\n",
    "\n",
    "# Display the first few records\n",
    "print(df.head())\n",
    "\n"
   ]
  },
  {
   "cell_type": "code",
   "execution_count": null,
   "id": "72d41f22",
   "metadata": {},
   "outputs": [],
   "source": [
    "# Encode target variable (Loan Status: Approved → 1, Rejected → 0)\n",
    "label_encoder = LabelEncoder()\n",
    "df[\"Loan Status\"] = label_encoder.fit_transform(df[\"Loan Status\"])\n",
    "\n",
    "# One-hot encode Employment Type (drop_first=True to avoid dummy trap)\n",
    "df = pd.get_dummies(df, columns=[\"Employment Type\"], drop_first=True)\n"
   ]
  },
  {
   "cell_type": "code",
   "execution_count": null,
   "id": "749318d1",
   "metadata": {},
   "outputs": [],
   "source": [
    "# Define features and target\n",
    "X = df.drop(columns=[\"Loan Status\", \"Applicant ID\"])  # Remove target and ID\n",
    "y = df[\"Loan Status\"]\n",
    "\n",
    "# Select top 3 best features\n",
    "selector = SelectKBest(score_func=f_classif, k=3)\n",
    "X_new = selector.fit_transform(X, y)\n",
    "\n",
    "# Shape after feature selection\n",
    "print(\"Shape after SelectKBest:\", X_new.shape)\n"
   ]
  },
  {
   "cell_type": "code",
   "execution_count": null,
   "id": "9549e8bc",
   "metadata": {},
   "outputs": [],
   "source": [
    "# Reduce dimensions to 2 using PCA\n",
    "pca = PCA(n_components=2)\n",
    "X_pca = pca.fit_transform(X_new)\n",
    "\n",
    "print(\"Shape after PCA:\", X_pca.shape)\n"
   ]
  },
  {
   "cell_type": "code",
   "execution_count": null,
   "id": "ef798009",
   "metadata": {},
   "outputs": [],
   "source": [
    "# Check class distribution before SMOTE\n",
    "print(\"Before SMOTE:\\n\", y.value_counts())\n",
    "\n",
    "# Apply SMOTE for oversampling the minority class\n",
    "smote = SMOTE(sampling_strategy='auto', random_state=42)\n",
    "X_resampled, y_resampled = smote.fit_resample(X_pca, y)\n",
    "\n",
    "# Check class distribution after SMOTE\n",
    "print(\"After SMOTE:\\n\", y_resampled.value_counts())\n"
   ]
  },
  {
   "cell_type": "code",
   "execution_count": null,
   "id": "31cd88a5",
   "metadata": {},
   "outputs": [],
   "source": [
    "plt.figure(figsize=(8, 6))\n",
    "sns.scatterplot(x=X_resampled[:, 0], y=X_resampled[:, 1], hue=y_resampled, palette=\"Set2\")\n",
    "plt.title(\"PCA of Loan Application Data (After SMOTE)\")\n",
    "plt.xlabel(\"Principal Component 1\")\n",
    "plt.ylabel(\"Principal Component 2\")\n",
    "plt.show()\n"
   ]
  }
 ],
 "metadata": {
  "language_info": {
   "name": "python"
  }
 },
 "nbformat": 4,
 "nbformat_minor": 5
}
