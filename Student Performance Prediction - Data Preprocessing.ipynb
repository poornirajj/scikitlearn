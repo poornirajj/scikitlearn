{
 "cells": [
  {
   "cell_type": "code",
   "execution_count": null,
   "id": "12259c45",
   "metadata": {},
   "outputs": [],
   "source": [
    "import pandas as pd\n",
    "import numpy as np\n",
    "from sklearn.impute import SimpleImputer\n",
    "from sklearn.preprocessing import StandardScaler, MinMaxScaler\n",
    "from sklearn.model_selection import train_test_split\n"
   ]
  },
  {
   "cell_type": "code",
   "execution_count": null,
   "id": "636a8858",
   "metadata": {},
   "outputs": [],
   "source": [
    "df = pd.read_csv('student_performance.csv')\n",
    "print(df.head())\n",
    "print(df.info())  # Check data types and missing values\n"
   ]
  },
  {
   "cell_type": "code",
   "execution_count": null,
   "id": "d51ad02d",
   "metadata": {},
   "outputs": [],
   "source": [
    "print(df.isnull().sum())\n"
   ]
  },
  {
   "cell_type": "code",
   "execution_count": null,
   "id": "6f3bec7d",
   "metadata": {},
   "outputs": [],
   "source": [
    "num_cols = ['StudyHours', 'Attendance', 'PreviousGrades']\n",
    "imputer_num = SimpleImputer(strategy='mean')\n",
    "df[num_cols] = imputer_num.fit_transform(df[num_cols])\n"
   ]
  },
  {
   "cell_type": "code",
   "execution_count": null,
   "id": "dd52bd65",
   "metadata": {},
   "outputs": [],
   "source": [
    "cat_cols = ['ParentalEducation', 'ExtracurricularActivities']\n",
    "imputer_cat = SimpleImputer(strategy='most_frequent')\n",
    "df[cat_cols] = imputer_cat.fit_transform(df[cat_cols])\n"
   ]
  },
  {
   "cell_type": "code",
   "execution_count": null,
   "id": "86d6e0a3",
   "metadata": {},
   "outputs": [],
   "source": [
    "df = pd.get_dummies(df, columns=cat_cols, drop_first=True)\n"
   ]
  },
  {
   "cell_type": "code",
   "execution_count": null,
   "id": "b2f87771",
   "metadata": {},
   "outputs": [],
   "source": [
    "X = df.drop('FinalGrade', axis=1)\n",
    "y = df['FinalGrade']\n"
   ]
  },
  {
   "cell_type": "code",
   "execution_count": null,
   "id": "f9749f94",
   "metadata": {},
   "outputs": [],
   "source": [
    "X_train, X_test, y_train, y_test = train_test_split(X, y, test_size=0.2, random_state=42)\n",
    "print(f'Train size: {X_train.shape}, Test size: {X_test.shape}')\n"
   ]
  },
  {
   "cell_type": "code",
   "execution_count": null,
   "id": "ab585725",
   "metadata": {},
   "outputs": [],
   "source": [
    "scaler = StandardScaler()\n",
    "X_train[num_cols] = scaler.fit_transform(X_train[num_cols])\n",
    "X_test[num_cols] = scaler.transform(X_test[num_cols])\n"
   ]
  },
  {
   "cell_type": "code",
   "execution_count": null,
   "id": "6e131c9b",
   "metadata": {},
   "outputs": [],
   "source": [
    "print(X_train.head())\n",
    "print(y_train.head())\n"
   ]
  },
  {
   "cell_type": "code",
   "execution_count": null,
   "id": "80e0b05d",
   "metadata": {},
   "outputs": [],
   "source": [
    "train_data = X_train.copy()\n",
    "train_data['FinalGrade'] = y_train\n",
    "train_data.to_csv('student_performance_preprocessed_train.csv', index=False)\n"
   ]
  }
 ],
 "metadata": {
  "language_info": {
   "name": "python"
  }
 },
 "nbformat": 4,
 "nbformat_minor": 5
}
