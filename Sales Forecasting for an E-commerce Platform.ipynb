{
 "cells": [
  {
   "cell_type": "code",
   "execution_count": 19,
   "id": "ca961164",
   "metadata": {},
   "outputs": [],
   "source": [
    "import pandas as pd\n",
    "import numpy as np\n",
    "import matplotlib.pyplot as plt\n",
    "import seaborn as sns\n",
    "\n",
    "from sklearn.model_selection import train_test_split, cross_val_score, GridSearchCV, RandomizedSearchCV\n",
    "from sklearn.ensemble import RandomForestRegressor\n",
    "from sklearn.linear_model import Ridge, Lasso\n",
    "from sklearn.metrics import mean_squared_error, mean_absolute_error, r2_score\n"
   ]
  },
  {
   "cell_type": "code",
   "execution_count": 20,
   "id": "12c97243",
   "metadata": {},
   "outputs": [
    {
     "name": "stdout",
     "output_type": "stream",
     "text": [
      "  Order_ID Product_ID   Category  Price  Quantity  Order_Date Customer_ID Country  Total_Sales\n",
      "0  0   A0001     P123       Shoes    50.00       ...                                          \n",
      "1  1   A0002     P456     Apparel    30.00       ...                                          \n",
      "<class 'pandas.core.frame.DataFrame'>\n",
      "RangeIndex: 2 entries, 0 to 1\n",
      "Data columns (total 1 columns):\n",
      " #   Column                                                                                          Non-Null Count  Dtype \n",
      "---  ------                                                                                          --------------  ----- \n",
      " 0     Order_ID Product_ID   Category  Price  Quantity  Order_Date Customer_ID Country  Total_Sales  2 non-null      object\n",
      "dtypes: object(1)\n",
      "memory usage: 148.0+ bytes\n",
      "None\n",
      "       Order_ID Product_ID   Category  Price  Quantity  Order_Date Customer_ID Country  Total_Sales\n",
      "count                                                   2                                          \n",
      "unique                                                  2                                          \n",
      "top     0   A0001     P123       Shoes    50.00       ...                                          \n",
      "freq                                                    1                                          \n",
      "Missing values:\n",
      " Order_ID Product_ID   Category  Price  Quantity  Order_Date Customer_ID Country  Total_Sales    0\n",
      "dtype: int64\n"
     ]
    }
   ],
   "source": [
    "# Load dataset\n",
    "df = pd.read_csv('sales_data.csv')  # Replace with your actual filename\n",
    "\n",
    "# Quick look at data\n",
    "print(df.head())\n",
    "print(df.info())\n",
    "print(df.describe())\n",
    "\n",
    "# Check for missing values\n",
    "print(\"Missing values:\\n\", df.isnull().sum())\n"
   ]
  },
  {
   "cell_type": "code",
   "execution_count": null,
   "id": "e839e935",
   "metadata": {},
   "outputs": [],
   "source": [
    "# Fill missing values if needed\n",
    "df.fillna(df.median(numeric_only=True), inplace=True)\n",
    "\n",
    "# Convert date column if present\n",
    "if 'date' in df.columns:\n",
    "    df['date'] = pd.to_datetime(df['date'])\n",
    "    df['month'] = df['date'].dt.month\n",
    "    df['day_of_week'] = df['date'].dt.dayofweek\n",
    "\n",
    "# Encode categorical variables\n",
    "df = pd.get_dummies(df, drop_first=True)\n",
    "\n",
    " \n",
    "# Define features and target\n",
    "X = df.drop('Price', axis=1)  # Assume 'sales' is the target variable\n",
    "y = df['Price']\n"
   ]
  },
  {
   "cell_type": "code",
   "execution_count": null,
   "id": "45a54b81",
   "metadata": {},
   "outputs": [],
   "source": [
    "X_train, X_test, y_train, y_test = train_test_split(\n",
    "    X, y, test_size=0.2, random_state=42\n",
    ")\n"
   ]
  },
  {
   "cell_type": "code",
   "execution_count": null,
   "id": "b958c315",
   "metadata": {},
   "outputs": [],
   "source": [
    "model = RandomForestRegressor(random_state=42)\n",
    "\n",
    "cv_scores = cross_val_score(model, X_train, y_train, cv=5, scoring='r2')\n",
    "print(\"Cross-validation R² scores:\", cv_scores)\n",
    "print(\"Mean R²:\", cv_scores.mean())\n"
   ]
  },
  {
   "cell_type": "code",
   "execution_count": null,
   "id": "68e2d4cf",
   "metadata": {},
   "outputs": [],
   "source": [
    "param_grid = {\n",
    "    'n_estimators': [50, 100, 200],\n",
    "    'max_depth': [10, 20, None],\n",
    "    'min_samples_split': [2, 5, 10]\n",
    "}\n",
    "\n",
    "grid_search = GridSearchCV(\n",
    "    RandomForestRegressor(random_state=42),\n",
    "    param_grid,\n",
    "    cv=5,\n",
    "    scoring='r2'\n",
    ")\n",
    "grid_search.fit(X_train, y_train)\n",
    "\n",
    "print(\"Best parameters (Grid Search):\", grid_search.best_params_)\n",
    "print(\"Best CV R² Score:\", grid_search.best_score_)\n"
   ]
  },
  {
   "cell_type": "code",
   "execution_count": null,
   "id": "cd9203af",
   "metadata": {},
   "outputs": [],
   "source": [
    "param_dist = {\n",
    "    'n_estimators': [50, 100, 200, 300],\n",
    "    'max_depth': [10, 20, 30, None],\n",
    "    'min_samples_split': [2, 5, 10, 15]\n",
    "}\n",
    "\n",
    "random_search = RandomizedSearchCV(\n",
    "    RandomForestRegressor(random_state=42),\n",
    "    param_distributions=param_dist,\n",
    "    n_iter=10,\n",
    "    cv=5,\n",
    "    scoring='r2',\n",
    "    random_state=42\n",
    ")\n",
    "random_search.fit(X_train, y_train)\n",
    "\n",
    "print(\"Best parameters (Randomized Search):\", random_search.best_params_)\n",
    "print(\"Best CV R² Score:\", random_search.best_score_)\n"
   ]
  },
  {
   "cell_type": "code",
   "execution_count": null,
   "id": "1cfe5ad4",
   "metadata": {},
   "outputs": [],
   "source": [
    "best_model = grid_search.best_estimator_  # Or use random_search.best_estimator_\n",
    "best_model.fit(X_train, y_train)\n",
    "\n",
    "feature_importances = pd.Series(best_model.feature_importances_, index=X.columns)\n",
    "feature_importances = feature_importances.sort_values(ascending=False)\n",
    "\n",
    "# Plot\n",
    "plt.figure(figsize=(10, 6))\n",
    "sns.barplot(x=feature_importances, y=feature_importances.index)\n",
    "plt.title(\"Feature Importance\")\n",
    "plt.xlabel(\"Importance Score\")\n",
    "plt.ylabel(\"Feature\")\n",
    "plt.tight_layout()\n",
    "plt.show()\n"
   ]
  },
  {
   "cell_type": "code",
   "execution_count": null,
   "id": "e3b3c3ac",
   "metadata": {},
   "outputs": [],
   "source": [
    "y_pred = best_model.predict(X_test)\n",
    "\n",
    "print(\"R² Score:\", r2_score(y_test, y_pred))\n",
    "print(\"MSE:\", mean_squared_error(y_test, y_pred))\n",
    "print(\"MAE:\", mean_absolute_error(y_test, y_pred))\n"
   ]
  },
  {
   "cell_type": "code",
   "execution_count": null,
   "id": "cb8d6325",
   "metadata": {},
   "outputs": [],
   "source": [
    "# Ridge Regression\n",
    "ridge = Ridge(alpha=1.0)\n",
    "ridge.fit(X_train, y_train)\n",
    "print(\"Ridge R² Score:\", ridge.score(X_test, y_test))\n",
    "\n",
    "# Lasso Regression\n",
    "lasso = Lasso(alpha=0.1)\n",
    "lasso.fit(X_train, y_train)\n",
    "print(\"Lasso R² Score:\", lasso.score(X_test, y_test))\n"
   ]
  }
 ],
 "metadata": {
  "kernelspec": {
   "display_name": "Python 3",
   "language": "python",
   "name": "python3"
  },
  "language_info": {
   "codemirror_mode": {
    "name": "ipython",
    "version": 3
   },
   "file_extension": ".py",
   "mimetype": "text/x-python",
   "name": "python",
   "nbconvert_exporter": "python",
   "pygments_lexer": "ipython3",
   "version": "3.13.5"
  }
 },
 "nbformat": 4,
 "nbformat_minor": 5
}
