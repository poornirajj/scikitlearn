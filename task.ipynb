{
 "cells": [
  {
   "cell_type": "code",
   "execution_count": null,
   "id": "96b9a0a9",
   "metadata": {},
   "outputs": [],
   "source": [
    "pip install pandas numpy seaborn scikit-learn imbalanced-learn matplotlib\n"
   ]
  },
  {
   "cell_type": "code",
   "execution_count": null,
   "id": "d5ed022f",
   "metadata": {},
   "outputs": [],
   "source": [
    "import pandas as pd\n",
    "\n",
    "# Load the dataset\n",
    "df = pd.read_csv(\"telecom_customer_churn.csv\")\n",
    "\n",
    "# Inspect the first few rows\n",
    "print(df.head())\n"
   ]
  },
  {
   "cell_type": "code",
   "execution_count": null,
   "id": "fd8d1383",
   "metadata": {},
   "outputs": [],
   "source": [
    "# Identify categorical and numerical columns\n",
    "categorical_cols = df.select_dtypes(include=['object']).columns.tolist()\n",
    "numerical_cols = df.select_dtypes(include=['int64', 'float64']).columns.tolist()\n",
    "\n",
    "print(\"Categorical Columns:\", categorical_cols)\n",
    "print(\"Numerical Columns:\", numerical_cols)\n",
    "\n",
    "# Target variable\n",
    "target = \"Churn\"  # 'Yes' or 'No'\n"
   ]
  },
  {
   "cell_type": "code",
   "execution_count": null,
   "id": "73b3fc47",
   "metadata": {},
   "outputs": [],
   "source": [
    "# Check for missing data\n",
    "print(df.isnull().sum())\n"
   ]
  },
  {
   "cell_type": "code",
   "execution_count": null,
   "id": "17650daf",
   "metadata": {},
   "outputs": [],
   "source": [
    "# Fill missing numerical columns with median\n",
    "for col in numerical_cols:\n",
    "    df[col].fillna(df[col].median(), inplace=True)\n",
    "\n",
    "# Fill missing categorical columns with mode\n",
    "for col in categorical_cols:\n",
    "    df[col].fillna(df[col].mode()[0], inplace=True)\n"
   ]
  },
  {
   "cell_type": "code",
   "execution_count": null,
   "id": "0627c03d",
   "metadata": {},
   "outputs": [],
   "source": [
    "from sklearn.preprocessing import LabelEncoder\n",
    "\n",
    "# Label Encoding for binary categorical features\n",
    "label_encoder = LabelEncoder()\n",
    "binary_cols = [col for col in categorical_cols if df[col].nunique() == 2 and col != target]\n",
    "\n",
    "for col in binary_cols:\n",
    "    df[col] = label_encoder.fit_transform(df[col])\n",
    "\n",
    "# One-Hot Encoding for remaining categorical columns\n",
    "df = pd.get_dummies(df, columns=[col for col in categorical_cols if col not in binary_cols + [target]], drop_first=True)\n",
    "\n",
    "# Encode target variable\n",
    "df[target] = label_encoder.fit_transform(df[target])  # Yes → 1, No → 0\n"
   ]
  },
  {
   "cell_type": "code",
   "execution_count": null,
   "id": "40c63fde",
   "metadata": {},
   "outputs": [],
   "source": [
    "import seaborn as sns\n",
    "import matplotlib.pyplot as plt\n",
    "\n",
    "# Histogram for numerical columns\n",
    "df[numerical_cols].hist(bins=20, figsize=(14, 6))\n",
    "plt.tight_layout()\n",
    "plt.show()\n",
    "\n",
    "# Count plot for target\n",
    "sns.countplot(x=target, data=df)\n",
    "plt.title(\"Churn Distribution\")\n",
    "plt.show()\n"
   ]
  },
  {
   "cell_type": "code",
   "execution_count": null,
   "id": "b8b525d1",
   "metadata": {},
   "outputs": [],
   "source": [
    "from sklearn.feature_selection import SelectKBest, f_classif\n",
    "\n",
    "X = df.drop(columns=[target])\n",
    "y = df[target]\n",
    "\n",
    "# Select top 10 features\n",
    "selector = SelectKBest(score_func=f_classif, k=10)\n",
    "X_kbest = selector.fit_transform(X, y)\n",
    "\n",
    "print(\"Shape after SelectKBest:\", X_kbest.shape)\n"
   ]
  },
  {
   "cell_type": "code",
   "execution_count": null,
   "id": "a9a57b47",
   "metadata": {},
   "outputs": [],
   "source": [
    "from sklearn.feature_selection import RFE\n",
    "from sklearn.tree import DecisionTreeClassifier\n",
    "\n",
    "model = DecisionTreeClassifier(random_state=42)\n",
    "rfe = RFE(model, n_features_to_select=10)\n",
    "rfe.fit(X, y)\n",
    "\n",
    "# Print selected features\n",
    "selected_features = X.columns[rfe.support_]\n",
    "print(\"Top features from RFE:\", selected_features.tolist())\n"
   ]
  },
  {
   "cell_type": "code",
   "execution_count": null,
   "id": "13b77555",
   "metadata": {},
   "outputs": [],
   "source": [
    "from sklearn.decomposition import PCA\n",
    "from sklearn.preprocessing import StandardScaler\n",
    "\n",
    "# Standardize before PCA\n",
    "scaler = StandardScaler()\n",
    "X_scaled = scaler.fit_transform(X)\n",
    "\n",
    "# PCA to 2 components\n",
    "pca = PCA(n_components=2)\n",
    "X_pca = pca.fit_transform(X_scaled)\n",
    "\n",
    "# Visualize PCA result\n",
    "plt.figure(figsize=(8, 6))\n",
    "sns.scatterplot(x=X_pca[:, 0], y=X_pca[:, 1], hue=y, palette='coolwarm')\n",
    "plt.title(\"PCA: Customer Churn\")\n",
    "plt.xlabel(\"PCA Component 1\")\n",
    "plt.ylabel(\"PCA Component 2\")\n",
    "plt.show()\n"
   ]
  },
  {
   "cell_type": "code",
   "execution_count": null,
   "id": "9b1a5992",
   "metadata": {},
   "outputs": [],
   "source": [
    "from sklearn.discriminant_analysis import LinearDiscriminantAnalysis as LDA\n",
    "\n",
    "lda = LDA(n_components=1)\n",
    "X_lda = lda.fit_transform(X_scaled, y)\n",
    "\n",
    "# Visualize LDA result\n",
    "plt.figure(figsize=(8, 4))\n",
    "sns.histplot(X_lda.ravel(), hue=y, bins=30, kde=True, palette=\"coolwarm\", element=\"step\")\n",
    "plt.title(\"LDA: Churn Separability\")\n",
    "plt.xlabel(\"LDA Component\")\n",
    "plt.show()\n"
   ]
  },
  {
   "cell_type": "code",
   "execution_count": null,
   "id": "c45928ed",
   "metadata": {},
   "outputs": [],
   "source": [
    "from imblearn.over_sampling import SMOTE\n",
    "\n",
    "print(\"Before SMOTE:\\n\", y.value_counts())\n",
    "\n",
    "smote = SMOTE(random_state=42)\n",
    "X_balanced, y_balanced = smote.fit_resample(X_scaled, y)\n",
    "\n",
    "print(\"After SMOTE:\\n\", pd.Series(y_balanced).value_counts())\n"
   ]
  },
  {
   "cell_type": "code",
   "execution_count": null,
   "id": "17dd5149",
   "metadata": {},
   "outputs": [],
   "source": [
    "from sklearn.preprocessing import MinMaxScaler\n",
    "\n",
    "scaler = MinMaxScaler()\n",
    "X_scaled_final = scaler.fit_transform(X_balanced)\n"
   ]
  },
  {
   "cell_type": "code",
   "execution_count": null,
   "id": "9f53aafc",
   "metadata": {},
   "outputs": [],
   "source": [
    "# Convert to DataFrame (if needed)\n",
    "final_df = pd.DataFrame(X_scaled_final, columns=X.columns)\n",
    "final_df[\"Churn\"] = y_balanced\n",
    "\n",
    "# Save to CSV\n",
    "final_df.to_csv(\"processed_churn_dataset.csv\", index=False)\n",
    "print(\"✅ Final dataset saved as 'processed_churn_dataset.csv'\")\n"
   ]
  }
 ],
 "metadata": {
  "language_info": {
   "name": "python"
  }
 },
 "nbformat": 4,
 "nbformat_minor": 5
}
