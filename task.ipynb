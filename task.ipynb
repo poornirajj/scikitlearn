{
 "cells": [
  {
   "cell_type": "code",
   "execution_count": null,
   "id": "4d2e7441",
   "metadata": {},
   "outputs": [],
   "source": [
    "pip install scikit-learn\n"
   ]
  },
  {
   "cell_type": "code",
   "execution_count": null,
   "id": "70e1d71e",
   "metadata": {},
   "outputs": [],
   "source": [
    "import pandas as pd\n",
    "df = pd.read_csv('employee_attrition.csv')\n"
   ]
  },
  {
   "cell_type": "code",
   "execution_count": null,
   "id": "3097581c",
   "metadata": {},
   "outputs": [],
   "source": [
    "from sklearn.datasets import fetch_openml\n",
    "df = fetch_openml(name='employee-attrition', version=1, as_frame=True).frame\n"
   ]
  },
  {
   "cell_type": "code",
   "execution_count": null,
   "id": "6a26708d",
   "metadata": {},
   "outputs": [],
   "source": [
    "print(df.head())\n",
    "print(df.info())           # Check data types and non-null counts\n",
    "print(df.isnull().sum())   # Check missing values per column\n",
    "print(df.describe())       # Summary statistics for numeric columns\n"
   ]
  },
  {
   "cell_type": "code",
   "execution_count": null,
   "id": "e6d2c039",
   "metadata": {},
   "outputs": [],
   "source": [
    "from sklearn.impute import SimpleImputer\n",
    "import numpy as np\n",
    "\n",
    "# Example: Impute age, salary, experience columns with mean\n",
    "imputer = SimpleImputer(strategy='mean')\n",
    "df[['Age', 'Salary', 'Experience']] = imputer.fit_transform(df[['Age', 'Salary', 'Experience']])\n"
   ]
  },
  {
   "cell_type": "code",
   "execution_count": null,
   "id": "c9dd606b",
   "metadata": {},
   "outputs": [],
   "source": [
    "# Example using One-Hot Encoding for 'Department' and 'Gender'\n",
    "df = pd.get_dummies(df, columns=['Department', 'Gender'], drop_first=True)\n"
   ]
  },
  {
   "cell_type": "code",
   "execution_count": null,
   "id": "6981f232",
   "metadata": {},
   "outputs": [],
   "source": [
    "Q1 = df[['Salary', 'Experience']].quantile(0.25)\n",
    "Q3 = df[['Salary', 'Experience']].quantile(0.75)\n",
    "IQR = Q3 - Q1\n",
    "\n",
    "condition = ~((df[['Salary', 'Experience']] < (Q1 - 1.5 * IQR)) | (df[['Salary', 'Experience']] > (Q3 + 1.5 * IQR))).any(axis=1)\n",
    "df_cleaned = df[condition]\n"
   ]
  },
  {
   "cell_type": "code",
   "execution_count": null,
   "id": "89adfbb5",
   "metadata": {},
   "outputs": [],
   "source": [
    "X = df_cleaned.drop('Attrition', axis=1)  # assuming 'Attrition' is the target column\n",
    "y = df_cleaned['Attrition']\n"
   ]
  },
  {
   "cell_type": "code",
   "execution_count": null,
   "id": "701dc465",
   "metadata": {},
   "outputs": [],
   "source": [
    "from sklearn.model_selection import train_test_split\n",
    "\n",
    "X_train, X_test, y_train, y_test = train_test_split(X, y, test_size=0.2, random_state=42)\n",
    "print(\"Training Set Size:\", X_train.shape)\n",
    "print(\"Testing Set Size:\", X_test.shape)\n"
   ]
  },
  {
   "cell_type": "code",
   "execution_count": null,
   "id": "1bc20959",
   "metadata": {},
   "outputs": [],
   "source": [
    "from sklearn.preprocessing import StandardScaler\n",
    "\n",
    "scaler_standard = StandardScaler()\n",
    "numeric_cols = ['Age', 'Salary', 'Experience']\n",
    "\n",
    "X_train[numeric_cols] = scaler_standard.fit_transform(X_train[numeric_cols])\n",
    "X_test[numeric_cols] = scaler_standard.transform(X_test[numeric_cols])\n"
   ]
  },
  {
   "cell_type": "code",
   "execution_count": null,
   "id": "2f073552",
   "metadata": {},
   "outputs": [],
   "source": [
    "from sklearn.preprocessing import MinMaxScaler\n",
    "\n",
    "scaler_minmax = MinMaxScaler()\n",
    "X_train[numeric_cols] = scaler_minmax.fit_transform(X_train[numeric_cols])\n",
    "X_test[numeric_cols] = scaler_minmax.transform(X_test[numeric_cols])\n"
   ]
  },
  {
   "cell_type": "code",
   "execution_count": null,
   "id": "18f8a3a8",
   "metadata": {},
   "outputs": [],
   "source": [
    "print(X_train.head())\n",
    "print(y_train.head())\n"
   ]
  },
  {
   "cell_type": "code",
   "execution_count": null,
   "id": "56e9fc71",
   "metadata": {},
   "outputs": [],
   "source": [
    "processed_df = X_train.copy()\n",
    "processed_df['Attrition'] = y_train\n",
    "\n",
    "processed_df.to_csv('employee_attrition_preprocessed.csv', index=False)\n"
   ]
  }
 ],
 "metadata": {
  "language_info": {
   "name": "python"
  }
 },
 "nbformat": 4,
 "nbformat_minor": 5
}
