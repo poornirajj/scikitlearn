{
 "cells": [
  {
   "cell_type": "code",
   "execution_count": 1,
   "id": "9f505319",
   "metadata": {},
   "outputs": [
    {
     "ename": "ModuleNotFoundError",
     "evalue": "No module named 'sklearn'",
     "output_type": "error",
     "traceback": [
      "\u001b[31m---------------------------------------------------------------------------\u001b[39m",
      "\u001b[31mModuleNotFoundError\u001b[39m                       Traceback (most recent call last)",
      "\u001b[36mCell\u001b[39m\u001b[36m \u001b[39m\u001b[32mIn[1]\u001b[39m\u001b[32m, line 6\u001b[39m\n\u001b[32m      4\u001b[39m \u001b[38;5;28;01mimport\u001b[39;00m\u001b[38;5;250m \u001b[39m\u001b[34;01mnumpy\u001b[39;00m\u001b[38;5;250m \u001b[39m\u001b[38;5;28;01mas\u001b[39;00m\u001b[38;5;250m \u001b[39m\u001b[34;01mnp\u001b[39;00m\n\u001b[32m      5\u001b[39m \u001b[38;5;28;01mimport\u001b[39;00m\u001b[38;5;250m \u001b[39m\u001b[34;01mpandas\u001b[39;00m\u001b[38;5;250m \u001b[39m\u001b[38;5;28;01mas\u001b[39;00m\u001b[38;5;250m \u001b[39m\u001b[34;01mpd\u001b[39;00m\n\u001b[32m----> \u001b[39m\u001b[32m6\u001b[39m \u001b[38;5;28;01mfrom\u001b[39;00m\u001b[38;5;250m \u001b[39m\u001b[34;01msklearn\u001b[39;00m\u001b[34;01m.\u001b[39;00m\u001b[34;01mmodel_selection\u001b[39;00m\u001b[38;5;250m \u001b[39m\u001b[38;5;28;01mimport\u001b[39;00m train_test_split\n\u001b[32m      7\u001b[39m \u001b[38;5;28;01mfrom\u001b[39;00m\u001b[38;5;250m \u001b[39m\u001b[34;01msklearn\u001b[39;00m\u001b[34;01m.\u001b[39;00m\u001b[34;01mimpute\u001b[39;00m\u001b[38;5;250m \u001b[39m\u001b[38;5;28;01mimport\u001b[39;00m SimpleImputer\n\u001b[32m      8\u001b[39m \u001b[38;5;28;01mfrom\u001b[39;00m\u001b[38;5;250m \u001b[39m\u001b[34;01msklearn\u001b[39;00m\u001b[34;01m.\u001b[39;00m\u001b[34;01mpreprocessing\u001b[39;00m\u001b[38;5;250m \u001b[39m\u001b[38;5;28;01mimport\u001b[39;00m StandardScaler, MinMaxScaler\n",
      "\u001b[31mModuleNotFoundError\u001b[39m: No module named 'sklearn'"
     ]
    }
   ],
   "source": [
    "# Step 1: Install and Import Required Libraries\n",
    "# !pip install scikit-learn  # Uncomment if scikit-learn is not installed\n",
    "\n",
    "import numpy as np\n",
    "import pandas as pd\n",
    "from sklearn.model_selection import train_test_split\n",
    "from sklearn.impute import SimpleImputer\n",
    "from sklearn.preprocessing import StandardScaler, MinMaxScaler\n",
    "\n",
    "# Step 2: Load the Dataset (Simulated Data)\n",
    "data = {\n",
    "    'Tenure (months)': [12, 24, np.nan, 36, 48, 6, 18, 30, np.nan, 40],\n",
    "    'Monthly Charges ($)': [70, 50, 60, 90, 80, 40, np.nan, 55, 65, 85],\n",
    "    'Churn (0 = No, 1 = Yes)': [0, 0, 1, 0, 0, 1, 1, 0, 1, 0]\n",
    "}\n",
    "df = pd.DataFrame(data)\n",
    "print(\"Original Dataset:\\n\", df)\n",
    "\n",
    "# Step 3: Handling Missing Values using SimpleImputer\n",
    "imputer = SimpleImputer(strategy='mean')\n",
    "df_imputed = pd.DataFrame(imputer.fit_transform(df), columns=df.columns)\n",
    "print(\"\\nDataset after Handling Missing Values:\\n\", df_imputed)\n",
    "\n",
    "# Step 4: Splitting Data into Training and Testing Sets\n",
    "X = df_imputed[['Tenure (months)', 'Monthly Charges ($)']]  # Features\n",
    "y = df_imputed['Churn (0 = No, 1 = Yes)']                   # Target variable\n",
    "\n",
    "X_train, X_test, y_train, y_test = train_test_split(X, y, test_size=0.2, random_state=42)\n",
    "print(\"\\nTraining Set Size:\", X_train.shape)\n",
    "print(\"Testing Set Size:\", X_test.shape)\n",
    "\n",
    "# Step 5: Feature Scaling using StandardScaler and MinMaxScaler\n",
    "\n",
    "# Standardization (mean=0, variance=1)\n",
    "scaler_standard = StandardScaler()\n",
    "X_train_standardized = scaler_standard.fit_transform(X_train)\n",
    "X_test_standardized = scaler_standard.transform(X_test)\n",
    "\n",
    "# Normalization (scaling features to [0, 1])\n",
    "scaler_minmax = MinMaxScaler()\n",
    "X_train_normalized = scaler_minmax.fit_transform(X_train)\n",
    "X_test_normalized = scaler_minmax.transform(X_test)\n",
    "\n",
    "print(\"\\nStandardized Data (First 3 rows):\\n\", X_train_standardized[:3])\n",
    "print(\"\\nNormalized Data (First 3 rows):\\n\", X_train_normalized[:3])\n"
   ]
  }
 ],
 "metadata": {
  "kernelspec": {
   "display_name": "Python 3",
   "language": "python",
   "name": "python3"
  },
  "language_info": {
   "codemirror_mode": {
    "name": "ipython",
    "version": 3
   },
   "file_extension": ".py",
   "mimetype": "text/x-python",
   "name": "python",
   "nbconvert_exporter": "python",
   "pygments_lexer": "ipython3",
   "version": "3.13.5"
  }
 },
 "nbformat": 4,
 "nbformat_minor": 5
}
