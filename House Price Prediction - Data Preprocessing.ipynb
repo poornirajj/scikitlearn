{
 "cells": [
  {
   "cell_type": "code",
   "execution_count": null,
   "id": "7687d7f3",
   "metadata": {},
   "outputs": [],
   "source": [
    "# Step 1: Install and Import Required Libraries\n",
    "# !pip install scikit-learn  # Uncomment this if scikit-learn is not installed\n",
    "\n",
    "import numpy as np\n",
    "import pandas as pd\n",
    "from sklearn.model_selection import train_test_split\n",
    "from sklearn.impute import SimpleImputer\n",
    "from sklearn.preprocessing import StandardScaler, MinMaxScaler\n",
    "\n",
    "# Step 2: Load the Dataset (Simulated Data)\n",
    "data = {\n",
    "    'Area (sq ft)': [2000, 1500, 1800, 2200, np.nan, 2500, 2700, 1600, 1400, 2100],\n",
    "    'Bedrooms': [3, 2, 3, 4, 3, 5, np.nan, 2, 2, 4],\n",
    "    'Price ($1000s)': [500, 350, 450, 600, 400, 750, 800, 300, 280, 650]\n",
    "}\n",
    "df = pd.DataFrame(data)\n",
    "print(\"Original Dataset:\\n\", df)\n",
    "\n",
    "# Step 3: Handle Missing Values using SimpleImputer\n",
    "imputer = SimpleImputer(strategy='mean')\n",
    "df_imputed = pd.DataFrame(imputer.fit_transform(df), columns=df.columns)\n",
    "print(\"\\nDataset after Handling Missing Values:\\n\", df_imputed)\n",
    "\n",
    "# Step 4: Splitting Data into Training and Testing Sets\n",
    "X = df_imputed[['Area (sq ft)', 'Bedrooms']]  # Features\n",
    "y = df_imputed['Price ($1000s)']               # Target variable\n",
    "\n",
    "X_train, X_test, y_train, y_test = train_test_split(X, y, test_size=0.2, random_state=42)\n",
    "print(\"\\nTraining Set Size:\", X_train.shape)\n",
    "print(\"Testing Set Size:\", X_test.shape)\n",
    "\n",
    "# Step 5: Feature Scaling using StandardScaler and MinMaxScaler\n",
    "\n",
    "# Standardization: mean=0, variance=1\n",
    "scaler_standard = StandardScaler()\n",
    "X_train_standardized = scaler_standard.fit_transform(X_train)\n",
    "X_test_standardized = scaler_standard.transform(X_test)\n",
    "\n",
    "# Normalization: scaling features to [0, 1]\n",
    "scaler_minmax = MinMaxScaler()\n",
    "X_train_normalized = scaler_minmax.fit_transform(X_train)\n",
    "X_test_normalized = scaler_minmax.transform(X_test)\n",
    "\n",
    "print(\"\\nStandardized Data (First 3 rows):\\n\", X_train_standardized[:3])\n",
    "print(\"\\nNormalized Data (First 3 rows):\\n\", X_train_normalized[:3])\n"
   ]
  }
 ],
 "metadata": {
  "language_info": {
   "name": "python"
  }
 },
 "nbformat": 4,
 "nbformat_minor": 5
}
