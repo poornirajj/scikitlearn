{
 "cells": [
  {
   "cell_type": "code",
   "execution_count": null,
   "id": "4cbbe5bd",
   "metadata": {},
   "outputs": [],
   "source": [
    "import pandas as pd\n",
    "import numpy as np\n",
    "import matplotlib.pyplot as plt\n",
    "import seaborn as sns\n",
    "\n",
    "from sklearn.model_selection import train_test_split\n",
    "from sklearn.linear_model import LinearRegression, Ridge, Lasso\n",
    "from sklearn.preprocessing import PolynomialFeatures, StandardScaler\n",
    "from sklearn.metrics import mean_squared_error, r2_score\n"
   ]
  },
  {
   "cell_type": "code",
   "execution_count": null,
   "id": "27610edb",
   "metadata": {},
   "outputs": [],
   "source": [
    "# Example: Boston dataset from sklearn (for educational use only)\n",
    "from sklearn.datasets import load_boston\n",
    "boston = load_boston()\n",
    "X = pd.DataFrame(boston.data, columns=boston.feature_names)\n",
    "y = pd.Series(boston.target, name='PRICE')\n",
    "\n",
    "# If you're using your own dataset:\n",
    "# df = pd.read_csv('your_data.csv')\n",
    "# X = df.drop('target_column', axis=1)\n",
    "# y = df['target_column']\n"
   ]
  },
  {
   "cell_type": "code",
   "execution_count": null,
   "id": "1440c538",
   "metadata": {},
   "outputs": [],
   "source": [
    "# Optional: Check for missing values\n",
    "print(X.isnull().sum())\n",
    "\n",
    "# Normalize the features\n",
    "scaler = StandardScaler()\n",
    "X_scaled = scaler.fit_transform(X)\n",
    "\n",
    "# Train-test split\n",
    "X_train, X_test, y_train, y_test = train_test_split(X_scaled, y, test_size=0.2, random_state=42)\n"
   ]
  },
  {
   "cell_type": "code",
   "execution_count": null,
   "id": "7fd52b46",
   "metadata": {},
   "outputs": [],
   "source": [
    "lr = LinearRegression()\n",
    "lr.fit(X_train, y_train)\n",
    "\n",
    "y_pred_lr = lr.predict(X_test)\n",
    "\n",
    "print(\"Linear Regression:\")\n",
    "print(\"R2 Score:\", r2_score(y_test, y_pred_lr))\n",
    "print(\"MSE:\", mean_squared_error(y_test, y_pred_lr))\n"
   ]
  },
  {
   "cell_type": "code",
   "execution_count": null,
   "id": "6780ff18",
   "metadata": {},
   "outputs": [],
   "source": [
    "# Transform features into polynomial features\n",
    "poly = PolynomialFeatures(degree=2)\n",
    "X_poly = poly.fit_transform(X_scaled)\n",
    "X_train_p, X_test_p, y_train_p, y_test_p = train_test_split(X_poly, y, test_size=0.2, random_state=42)\n",
    "\n",
    "poly_reg = LinearRegression()\n",
    "poly_reg.fit(X_train_p, y_train_p)\n",
    "y_pred_poly = poly_reg.predict(X_test_p)\n",
    "\n",
    "print(\"Polynomial Regression (degree=2):\")\n",
    "print(\"R2 Score:\", r2_score(y_test_p, y_pred_poly))\n",
    "print(\"MSE:\", mean_squared_error(y_test_p, y_pred_poly))\n"
   ]
  },
  {
   "cell_type": "code",
   "execution_count": null,
   "id": "c45b25d5",
   "metadata": {},
   "outputs": [],
   "source": [
    "ridge = Ridge(alpha=1.0)\n",
    "ridge.fit(X_train, y_train)\n",
    "y_pred_ridge = ridge.predict(X_test)\n",
    "\n",
    "print(\"Ridge Regression:\")\n",
    "print(\"R2 Score:\", r2_score(y_test, y_pred_ridge))\n",
    "print(\"MSE:\", mean_squared_error(y_test, y_pred_ridge))\n"
   ]
  },
  {
   "cell_type": "code",
   "execution_count": null,
   "id": "d925abb6",
   "metadata": {},
   "outputs": [],
   "source": [
    "lasso = Lasso(alpha=0.1)\n",
    "lasso.fit(X_train, y_train)\n",
    "y_pred_lasso = lasso.predict(X_test)\n",
    "\n",
    "print(\"Lasso Regression:\")\n",
    "print(\"R2 Score:\", r2_score(y_test, y_pred_lasso))\n",
    "print(\"MSE:\", mean_squared_error(y_test, y_pred_lasso))\n"
   ]
  },
  {
   "cell_type": "code",
   "execution_count": null,
   "id": "4c8b163f",
   "metadata": {},
   "outputs": [],
   "source": [
    "models = ['Linear', 'Polynomial', 'Ridge', 'Lasso']\n",
    "r2_scores = [\n",
    "    r2_score(y_test, y_pred_lr),\n",
    "    r2_score(y_test_p, y_pred_poly),\n",
    "    r2_score(y_test, y_pred_ridge),\n",
    "    r2_score(y_test, y_pred_lasso)\n",
    "]\n",
    "\n",
    "plt.figure(figsize=(10,6))\n",
    "sns.barplot(x=models, y=r2_scores)\n",
    "plt.title('R2 Score Comparison')\n",
    "plt.ylabel('R2 Score')\n",
    "plt.show()\n"
   ]
  },
  {
   "cell_type": "code",
   "execution_count": null,
   "id": "adaa5be4",
   "metadata": {},
   "outputs": [],
   "source": [
    "import joblib\n",
    "joblib.dump(lr, 'linear_regression_model.pkl')\n"
   ]
  }
 ],
 "metadata": {
  "language_info": {
   "name": "python"
  }
 },
 "nbformat": 4,
 "nbformat_minor": 5
}
