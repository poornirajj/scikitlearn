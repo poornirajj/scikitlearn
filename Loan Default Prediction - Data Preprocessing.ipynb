{
 "cells": [
  {
   "cell_type": "code",
   "execution_count": null,
   "id": "56e09d17",
   "metadata": {},
   "outputs": [],
   "source": [
    "import pandas as pd\n",
    "import numpy as np\n",
    "from sklearn.impute import SimpleImputer\n",
    "from sklearn.preprocessing import StandardScaler, MinMaxScaler, OneHotEncoder\n",
    "from sklearn.model_selection import train_test_split\n",
    "from sklearn.compose import ColumnTransformer\n",
    "from sklearn.pipeline import Pipeline\n"
   ]
  },
  {
   "cell_type": "code",
   "execution_count": null,
   "id": "edd09d0b",
   "metadata": {},
   "outputs": [],
   "source": [
    "df = pd.read_csv('loan_data.csv')\n",
    "print(df.head())\n",
    "print(df.info())  # Check data types and missing values\n"
   ]
  },
  {
   "cell_type": "code",
   "execution_count": null,
   "id": "30f423c0",
   "metadata": {},
   "outputs": [],
   "source": [
    "print(df.isnull().sum())\n"
   ]
  },
  {
   "cell_type": "code",
   "execution_count": null,
   "id": "0b7270da",
   "metadata": {},
   "outputs": [],
   "source": [
    "numeric_features = ['LoanAmount', 'Income', 'CreditScore']\n",
    "numeric_imputer = SimpleImputer(strategy='mean')\n",
    "df[numeric_features] = numeric_imputer.fit_transform(df[numeric_features])\n"
   ]
  },
  {
   "cell_type": "code",
   "execution_count": null,
   "id": "54eb8188",
   "metadata": {},
   "outputs": [],
   "source": [
    "categorical_features = ['EmploymentStatus', 'LoanPurpose']\n",
    "categorical_imputer = SimpleImputer(strategy='most_frequent')\n",
    "df[categorical_features] = categorical_imputer.fit_transform(df[categorical_features])\n"
   ]
  },
  {
   "cell_type": "code",
   "execution_count": null,
   "id": "c9348c69",
   "metadata": {},
   "outputs": [],
   "source": [
    "df = pd.get_dummies(df, columns=categorical_features, drop_first=True)\n"
   ]
  },
  {
   "cell_type": "code",
   "execution_count": null,
   "id": "7f1a9095",
   "metadata": {},
   "outputs": [],
   "source": [
    "for col in numeric_features:\n",
    "    Q1 = df[col].quantile(0.25)\n",
    "    Q3 = df[col].quantile(0.75)\n",
    "    IQR = Q3 - Q1\n",
    "    filter = (df[col] >= Q1 - 1.5 * IQR) & (df[col] <= Q3 + 1.5 * IQR)\n",
    "    df = df.loc[filter]\n"
   ]
  },
  {
   "cell_type": "code",
   "execution_count": null,
   "id": "329b3025",
   "metadata": {},
   "outputs": [],
   "source": [
    "X = df.drop('Default', axis=1)\n",
    "y = df['Default']\n"
   ]
  },
  {
   "cell_type": "code",
   "execution_count": null,
   "id": "8920db7a",
   "metadata": {},
   "outputs": [],
   "source": [
    "X_train, X_test, y_train, y_test = train_test_split(X, y, test_size=0.2, random_state=42)\n",
    "print(f'Train size: {X_train.shape}, Test size: {X_test.shape}')\n"
   ]
  },
  {
   "cell_type": "code",
   "execution_count": null,
   "id": "3bac5d88",
   "metadata": {},
   "outputs": [],
   "source": [
    "scaler = StandardScaler()\n",
    "X_train[numeric_features] = scaler.fit_transform(X_train[numeric_features])\n",
    "X_test[numeric_features] = scaler.transform(X_test[numeric_features])\n"
   ]
  },
  {
   "cell_type": "code",
   "execution_count": null,
   "id": "82e4afc9",
   "metadata": {},
   "outputs": [],
   "source": [
    "print(X_train.head())\n",
    "print(y_train.head())\n"
   ]
  },
  {
   "cell_type": "code",
   "execution_count": null,
   "id": "3b71c7d3",
   "metadata": {},
   "outputs": [],
   "source": [
    "train_data = X_train.copy()\n",
    "train_data['Default'] = y_train\n",
    "train_data.to_csv('loan_data_preprocessed_train.csv', index=False)\n"
   ]
  }
 ],
 "metadata": {
  "language_info": {
   "name": "python"
  }
 },
 "nbformat": 4,
 "nbformat_minor": 5
}
