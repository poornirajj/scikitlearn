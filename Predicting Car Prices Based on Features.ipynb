{
 "cells": [
  {
   "cell_type": "code",
   "execution_count": null,
   "id": "5354d7c0",
   "metadata": {},
   "outputs": [],
   "source": [
    "import pandas as pd\n",
    "import numpy as np\n",
    "import matplotlib.pyplot as plt\n",
    "import seaborn as sns\n",
    "\n",
    "from sklearn.model_selection import train_test_split\n",
    "from sklearn.linear_model import LinearRegression, Ridge, Lasso\n",
    "from sklearn.preprocessing import PolynomialFeatures, StandardScaler, LabelEncoder\n",
    "from sklearn.metrics import r2_score, mean_squared_error\n"
   ]
  },
  {
   "cell_type": "code",
   "execution_count": null,
   "id": "b3e800ac",
   "metadata": {},
   "outputs": [],
   "source": [
    "# Example: Replace with your own dataset\n",
    "df = pd.read_csv(\"car_data.csv\")\n",
    "df.head()\n"
   ]
  },
  {
   "cell_type": "code",
   "execution_count": null,
   "id": "3214e75b",
   "metadata": {},
   "outputs": [],
   "source": [
    "# Example: Drop irrelevant columns\n",
    "# df = df.drop(['car_ID', 'CarName'], axis=1)\n",
    "\n",
    "# Encode categorical variables\n",
    "categorical_cols = df.select_dtypes(include=['object']).columns\n",
    "df_encoded = pd.get_dummies(df, columns=categorical_cols, drop_first=True)\n",
    "\n",
    "# Split features and target\n",
    "X = df_encoded.drop('price', axis=1)\n",
    "y = df_encoded['price']\n",
    "\n",
    "# Standardize the features\n",
    "scaler = StandardScaler()\n",
    "X_scaled = scaler.fit_transform(X)\n",
    "\n",
    "# Train-Test Split\n",
    "X_train, X_test, y_train, y_test = train_test_split(X_scaled, y, test_size=0.2, random_state=42)\n"
   ]
  },
  {
   "cell_type": "code",
   "execution_count": null,
   "id": "12013257",
   "metadata": {},
   "outputs": [],
   "source": [
    "lr = LinearRegression()\n",
    "lr.fit(X_train, y_train)\n",
    "y_pred_lr = lr.predict(X_test)\n",
    "\n",
    "print(\"Linear Regression\")\n",
    "print(\"R2 Score:\", r2_score(y_test, y_pred_lr))\n",
    "print(\"MSE:\", mean_squared_error(y_test, y_pred_lr))\n"
   ]
  },
  {
   "cell_type": "code",
   "execution_count": null,
   "id": "9abd7948",
   "metadata": {},
   "outputs": [],
   "source": [
    "poly = PolynomialFeatures(degree=2)\n",
    "X_poly = poly.fit_transform(X_scaled)\n",
    "\n",
    "X_train_p, X_test_p, y_train_p, y_test_p = train_test_split(X_poly, y, test_size=0.2, random_state=42)\n",
    "\n",
    "poly_model = LinearRegression()\n",
    "poly_model.fit(X_train_p, y_train_p)\n",
    "y_pred_poly = poly_model.predict(X_test_p)\n",
    "\n",
    "print(\"Polynomial Regression\")\n",
    "print(\"R2 Score:\", r2_score(y_test_p, y_pred_poly))\n",
    "print(\"MSE:\", mean_squared_error(y_test_p, y_pred_poly))\n"
   ]
  },
  {
   "cell_type": "code",
   "execution_count": null,
   "id": "71cfa178",
   "metadata": {},
   "outputs": [],
   "source": [
    "ridge = Ridge(alpha=1.0)\n",
    "ridge.fit(X_train, y_train)\n",
    "y_pred_ridge = ridge.predict(X_test)\n",
    "\n",
    "print(\"Ridge Regression\")\n",
    "print(\"R2 Score:\", r2_score(y_test, y_pred_ridge))\n",
    "print(\"MSE:\", mean_squared_error(y_test, y_pred_ridge))\n"
   ]
  },
  {
   "cell_type": "code",
   "execution_count": null,
   "id": "3d56f9a3",
   "metadata": {},
   "outputs": [],
   "source": [
    "lasso = Lasso(alpha=0.1)\n",
    "lasso.fit(X_train, y_train)\n",
    "y_pred_lasso = lasso.predict(X_test)\n",
    "\n",
    "print(\"Lasso Regression\")\n",
    "print(\"R2 Score:\", r2_score(y_test, y_pred_lasso))\n",
    "print(\"MSE:\", mean_squared_error(y_test, y_pred_lasso))\n"
   ]
  },
  {
   "cell_type": "code",
   "execution_count": null,
   "id": "2046fed7",
   "metadata": {},
   "outputs": [],
   "source": [
    "models = ['Linear', 'Polynomial', 'Ridge', 'Lasso']\n",
    "r2_scores = [\n",
    "    r2_score(y_test, y_pred_lr),\n",
    "    r2_score(y_test_p, y_pred_poly),\n",
    "    r2_score(y_test, y_pred_ridge),\n",
    "    r2_score(y_test, y_pred_lasso)\n",
    "]\n",
    "\n",
    "plt.figure(figsize=(10,6))\n",
    "sns.barplot(x=models, y=r2_scores)\n",
    "plt.title('Model Comparison - R2 Scores')\n",
    "plt.ylabel('R2 Score')\n",
    "plt.show()\n"
   ]
  }
 ],
 "metadata": {
  "language_info": {
   "name": "python"
  }
 },
 "nbformat": 4,
 "nbformat_minor": 5
}
