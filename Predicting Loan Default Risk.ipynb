{
 "cells": [
  {
   "cell_type": "code",
   "execution_count": null,
   "id": "067799fc",
   "metadata": {},
   "outputs": [],
   "source": [
    "pip install pandas numpy seaborn matplotlib scikit-learn imbalanced-learn\n"
   ]
  },
  {
   "cell_type": "code",
   "execution_count": null,
   "id": "efb5bceb",
   "metadata": {},
   "outputs": [],
   "source": [
    "import pandas as pd\n",
    "import numpy as np\n",
    "import seaborn as sns\n",
    "import matplotlib.pyplot as plt\n",
    "\n",
    "from sklearn.preprocessing import LabelEncoder, StandardScaler\n",
    "from sklearn.feature_selection import SelectKBest, f_classif, RFE\n",
    "from sklearn.decomposition import PCA\n",
    "from sklearn.discriminant_analysis import LinearDiscriminantAnalysis as LDA\n",
    "from sklearn.tree import DecisionTreeClassifier\n",
    "from imblearn.over_sampling import SMOTE\n"
   ]
  },
  {
   "cell_type": "code",
   "execution_count": null,
   "id": "401275c3",
   "metadata": {},
   "outputs": [],
   "source": [
    "df = pd.read_csv(\"loan_default_data.csv\")\n",
    "print(df.head())\n",
    "print(df.info())\n"
   ]
  },
  {
   "cell_type": "code",
   "execution_count": null,
   "id": "0280edca",
   "metadata": {},
   "outputs": [],
   "source": [
    "# Target variable\n",
    "target = \"Loan Default\"  # Yes/No\n",
    "\n",
    "# Separate numerical and categorical features\n",
    "categorical_cols = df.select_dtypes(include='object').columns.tolist()\n",
    "numerical_cols = df.select_dtypes(include=['int64', 'float64']).columns.tolist()\n",
    "\n",
    "print(\"Categorical Columns:\", categorical_cols)\n",
    "print(\"Numerical Columns:\", numerical_cols)\n"
   ]
  },
  {
   "cell_type": "code",
   "execution_count": null,
   "id": "e0dfabc4",
   "metadata": {},
   "outputs": [],
   "source": [
    "# Fill numerical columns with median\n",
    "for col in numerical_cols:\n",
    "    df[col].fillna(df[col].median(), inplace=True)\n",
    "\n",
    "# Fill categorical columns with mode\n",
    "for col in categorical_cols:\n",
    "    df[col].fillna(df[col].mode()[0], inplace=True)\n"
   ]
  },
  {
   "cell_type": "code",
   "execution_count": null,
   "id": "7dca441c",
   "metadata": {},
   "outputs": [],
   "source": [
    "label_encoder = LabelEncoder()\n",
    "\n",
    "# Label Encode binary categorical features\n",
    "binary_cols = [col for col in categorical_cols if df[col].nunique() == 2 and col != target]\n",
    "\n",
    "for col in binary_cols:\n",
    "    df[col] = label_encoder.fit_transform(df[col])\n",
    "\n",
    "# One-hot encode other categorical columns\n",
    "multi_class_cols = [col for col in categorical_cols if col not in binary_cols + [target]]\n",
    "df = pd.get_dummies(df, columns=multi_class_cols, drop_first=True)\n",
    "\n",
    "# Encode the target\n",
    "df[target] = label_encoder.fit_transform(df[target])  # Yes → 1, No → 0\n"
   ]
  },
  {
   "cell_type": "code",
   "execution_count": null,
   "id": "b46f33f2",
   "metadata": {},
   "outputs": [],
   "source": [
    "X = df.drop(columns=[target])\n",
    "y = df[target]\n",
    "\n",
    "# Select top 8 features using ANOVA F-test\n",
    "selector = SelectKBest(score_func=f_classif, k=8)\n",
    "X_kbest = selector.fit_transform(X, y)\n",
    "\n",
    "print(\"Shape after SelectKBest:\", X_kbest.shape)\n"
   ]
  },
  {
   "cell_type": "code",
   "execution_count": null,
   "id": "5e9f6e97",
   "metadata": {},
   "outputs": [],
   "source": [
    "# Use DecisionTree for RFE\n",
    "rfe_model = DecisionTreeClassifier(random_state=42)\n",
    "rfe_selector = RFE(estimator=rfe_model, n_features_to_select=8)\n",
    "rfe_selector.fit(X, y)\n",
    "\n",
    "# Get selected features\n",
    "selected_features = X.columns[rfe_selector.support_]\n",
    "print(\"RFE Selected Features:\", selected_features.tolist())\n"
   ]
  },
  {
   "cell_type": "code",
   "execution_count": null,
   "id": "8722a392",
   "metadata": {},
   "outputs": [],
   "source": [
    "scaler = StandardScaler()\n",
    "X_scaled = scaler.fit_transform(X)\n",
    "\n",
    "pca = PCA(n_components=2)\n",
    "X_pca = pca.fit_transform(X_scaled)\n",
    "\n",
    "# PCA Visualization\n",
    "plt.figure(figsize=(8, 6))\n",
    "sns.scatterplot(x=X_pca[:, 0], y=X_pca[:, 1], hue=y, palette='coolwarm')\n",
    "plt.title(\"PCA: Loan Default Data\")\n",
    "plt.xlabel(\"Principal Component 1\")\n",
    "plt.ylabel(\"Principal Component 2\")\n",
    "plt.show()\n"
   ]
  },
  {
   "cell_type": "code",
   "execution_count": null,
   "id": "3f83a534",
   "metadata": {},
   "outputs": [],
   "source": [
    "lda = LDA(n_components=1)\n",
    "X_lda = lda.fit_transform(X_scaled, y)\n",
    "\n",
    "# LDA Visualization\n",
    "plt.figure(figsize=(8, 4))\n",
    "sns.histplot(X_lda.ravel(), hue=y, bins=30, kde=True, element='step', palette='coolwarm')\n",
    "plt.title(\"LDA: Loan Default Separation\")\n",
    "plt.xlabel(\"LDA Component\")\n",
    "plt.show()\n"
   ]
  },
  {
   "cell_type": "code",
   "execution_count": null,
   "id": "ba631b65",
   "metadata": {},
   "outputs": [],
   "source": [
    "print(\"Before SMOTE:\\n\", y.value_counts())\n",
    "\n",
    "smote = SMOTE(random_state=42)\n",
    "X_resampled, y_resampled = smote.fit_resample(X_scaled, y)\n",
    "\n",
    "print(\"After SMOTE:\\n\", pd.Series(y_resampled).value_counts())\n"
   ]
  }
 ],
 "metadata": {
  "language_info": {
   "name": "python"
  }
 },
 "nbformat": 4,
 "nbformat_minor": 5
}
