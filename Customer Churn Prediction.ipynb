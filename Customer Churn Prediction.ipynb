{
 "cells": [
  {
   "cell_type": "code",
   "execution_count": null,
   "id": "563bb669",
   "metadata": {},
   "outputs": [],
   "source": [
    "import pandas as pd\n",
    "import numpy as np\n",
    "import matplotlib.pyplot as plt\n",
    "import seaborn as sns\n",
    "\n",
    "from sklearn.model_selection import train_test_split\n",
    "from sklearn.preprocessing import StandardScaler, LabelEncoder\n",
    "from sklearn.linear_model import LogisticRegression\n",
    "from sklearn.tree import DecisionTreeClassifier\n",
    "from sklearn.ensemble import RandomForestClassifier\n",
    "from sklearn.svm import SVC\n",
    "from sklearn.neighbors import KNeighborsClassifier\n",
    "from sklearn.metrics import accuracy_score, precision_score, recall_score, f1_score, classification_report\n"
   ]
  },
  {
   "cell_type": "code",
   "execution_count": null,
   "id": "dcc302e0",
   "metadata": {},
   "outputs": [],
   "source": [
    "data = pd.read_csv(\"customer_churn.csv\")\n",
    "print(data.head())\n"
   ]
  },
  {
   "cell_type": "code",
   "execution_count": null,
   "id": "2f04e633",
   "metadata": {},
   "outputs": [],
   "source": [
    "data['total_charges'] = pd.to_numeric(data['total_charges'], errors='coerce')\n",
    "data.dropna(inplace=True)\n"
   ]
  },
  {
   "cell_type": "code",
   "execution_count": null,
   "id": "e231ef26",
   "metadata": {},
   "outputs": [],
   "source": [
    "data.drop(columns=['customer_id'], inplace=True)\n",
    "\n",
    "label_enc = LabelEncoder()\n",
    "data['contract_type'] = label_enc.fit_transform(data['contract_type'])\n",
    "data['internet_service'] = label_enc.fit_transform(data['internet_service'])\n",
    "data['payment_method'] = label_enc.fit_transform(data['payment_method'])\n",
    "data['churn'] = label_enc.fit_transform(data['churn'])\n"
   ]
  },
  {
   "cell_type": "code",
   "execution_count": null,
   "id": "efa9bc1f",
   "metadata": {},
   "outputs": [],
   "source": [
    "X = data.drop(columns=['churn'])\n",
    "y = data['churn']\n",
    "X_train, X_test, y_train, y_test = train_test_split(X, y, test_size=0.2, random_state=42)\n"
   ]
  },
  {
   "cell_type": "code",
   "execution_count": null,
   "id": "bc9603e2",
   "metadata": {},
   "outputs": [],
   "source": [
    "scaler = StandardScaler()\n",
    "X_train = scaler.fit_transform(X_train)\n",
    "X_test = scaler.transform(X_test)\n"
   ]
  },
  {
   "cell_type": "code",
   "execution_count": null,
   "id": "3c852686",
   "metadata": {},
   "outputs": [],
   "source": [
    "models = {\n",
    "    \"Logistic Regression\": y_pred_log,\n",
    "    \"Decision Tree\": y_pred_dt,\n",
    "    \"Random Forest\": y_pred_rf,\n",
    "    \"SVM\": y_pred_svm,\n",
    "    \"KNN\": y_pred_knn\n",
    "}\n",
    "\n",
    "for model_name, y_pred in models.items():\n",
    "    print(f\"\\n{model_name} Performance:\")\n",
    "    print(f\"Accuracy: {accuracy_score(y_test, y_pred):.2f}\")\n",
    "    print(f\"Precision: {precision_score(y_test, y_pred):.2f}\")\n",
    "    print(f\"Recall: {recall_score(y_test, y_pred):.2f}\")\n",
    "    print(f\"F1 Score: {f1_score(y_test, y_pred):.2f}\")\n",
    "    print(\"-\" * 50)\n"
   ]
  },
  {
   "cell_type": "code",
   "execution_count": null,
   "id": "bb8351bb",
   "metadata": {},
   "outputs": [],
   "source": [
    "print(classification_report(y_test, y_pred))\n"
   ]
  },
  {
   "cell_type": "code",
   "execution_count": null,
   "id": "c17b24bf",
   "metadata": {},
   "outputs": [],
   "source": [
    "from sklearn.metrics import ConfusionMatrixDisplay\n",
    "\n",
    "for model_name, y_pred in models.items():\n",
    "    print(f\"{model_name} Confusion Matrix:\")\n",
    "    ConfusionMatrixDisplay.from_predictions(y_test, y_pred)\n",
    "    plt.title(model_name)\n",
    "    plt.show()\n"
   ]
  }
 ],
 "metadata": {
  "language_info": {
   "name": "python"
  }
 },
 "nbformat": 4,
 "nbformat_minor": 5
}
