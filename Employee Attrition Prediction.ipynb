{
 "cells": [
  {
   "cell_type": "code",
   "execution_count": null,
   "id": "f1f54719",
   "metadata": {},
   "outputs": [],
   "source": [
    "pip install pandas numpy seaborn scikit-learn imbalanced-learn matplotlib\n"
   ]
  },
  {
   "cell_type": "code",
   "execution_count": null,
   "id": "01005aac",
   "metadata": {},
   "outputs": [],
   "source": [
    "import pandas as pd\n",
    "import numpy as np\n",
    "import seaborn as sns\n",
    "import matplotlib.pyplot as plt\n",
    "\n",
    "from sklearn.model_selection import train_test_split\n",
    "from sklearn.preprocessing import LabelEncoder\n",
    "from sklearn.feature_selection import SelectKBest, f_classif\n",
    "from sklearn.decomposition import PCA\n",
    "from imblearn.over_sampling import SMOTE\n"
   ]
  },
  {
   "cell_type": "code",
   "execution_count": null,
   "id": "7aa2da1c",
   "metadata": {},
   "outputs": [],
   "source": [
    "# Load the dataset\n",
    "df = pd.read_csv(\"employee_attrition.csv\")\n",
    "\n",
    "# Display the first few rows\n",
    "print(df.head())\n"
   ]
  },
  {
   "cell_type": "code",
   "execution_count": null,
   "id": "dea68def",
   "metadata": {},
   "outputs": [],
   "source": [
    "# Label Encoding for target variable 'Attrition'\n",
    "label_encoder = LabelEncoder()\n",
    "df[\"Attrition\"] = label_encoder.fit_transform(df[\"Attrition\"])  # Yes → 1, No → 0\n",
    "\n",
    "# One-Hot Encoding for categorical features\n",
    "df = pd.get_dummies(df, columns=[\"Job Role\", \"Department\"], drop_first=True)\n"
   ]
  },
  {
   "cell_type": "code",
   "execution_count": null,
   "id": "01fcba5e",
   "metadata": {},
   "outputs": [],
   "source": [
    "# Define features and target\n",
    "X = df.drop(columns=[\"Attrition\", \"Employee ID\"])  # Drop target and ID\n",
    "y = df[\"Attrition\"]\n",
    "\n",
    "# Select top 5 features using ANOVA F-test\n",
    "selector = SelectKBest(score_func=f_classif, k=5)\n",
    "X_new = selector.fit_transform(X, y)\n",
    "\n",
    "# Shape of selected features\n",
    "print(\"Shape after SelectKBest:\", X_new.shape)\n"
   ]
  },
  {
   "cell_type": "code",
   "execution_count": null,
   "id": "bec3faa7",
   "metadata": {},
   "outputs": [],
   "source": [
    "# Reduce to 2 dimensions using PCA\n",
    "pca = PCA(n_components=2)\n",
    "X_pca = pca.fit_transform(X_new)\n",
    "\n",
    "print(\"Shape after PCA:\", X_pca.shape)\n"
   ]
  },
  {
   "cell_type": "code",
   "execution_count": null,
   "id": "d7e64caf",
   "metadata": {},
   "outputs": [],
   "source": [
    "# Check class distribution before SMOTE\n",
    "print(\"Before SMOTE:\\n\", y.value_counts())\n",
    "\n",
    "# Apply SMOTE\n",
    "smote = SMOTE(sampling_strategy='auto', random_state=42)\n",
    "X_resampled, y_resampled = smote.fit_resample(X_pca, y)\n",
    "\n",
    "# Check class distribution after SMOTE\n",
    "print(\"After SMOTE:\\n\", y_resampled.value_counts())\n"
   ]
  }
 ],
 "metadata": {
  "kernelspec": {
   "display_name": "Python 3",
   "language": "python",
   "name": "python3"
  },
  "language_info": {
   "codemirror_mode": {
    "name": "ipython",
    "version": 3
   },
   "file_extension": ".py",
   "mimetype": "text/x-python",
   "name": "python",
   "nbconvert_exporter": "python",
   "pygments_lexer": "ipython3",
   "version": "3.13.5"
  }
 },
 "nbformat": 4,
 "nbformat_minor": 5
}
